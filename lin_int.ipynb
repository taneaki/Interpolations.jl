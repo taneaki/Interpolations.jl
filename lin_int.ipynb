{
 "cells": [
  {
   "cell_type": "code",
   "execution_count": 46,
   "metadata": {
    "collapsed": false
   },
   "outputs": [
    {
     "data": {
      "text/plain": [
       "lin_int (generic function with 2 methods)"
      ]
     },
     "execution_count": 46,
     "metadata": {},
     "output_type": "execute_result"
    }
   ],
   "source": [
    "function lin_int(grid,vals)\n",
    "    function func(x)\n",
    "        if x<grid[1]\n",
    "            return \"error\"\n",
    "        end\n",
    "        if x>grid[n]\n",
    "            return \"error\"\n",
    "        end\n",
    "        for x=grid[n]\n",
    "            return vals[n]\n",
    "        end\n",
    "        if grid[1]<=x<length(grid)\n",
    "    z=searchsortedlast(grid,x)\n",
    "    slope=(vals[z+1]-vals[z])/(grid[z+1]-grid[z])\n",
    "    y=slope*(x-grid[z])+vals[z]\n",
    "        return y\n",
    "        end\n",
    "    end\n",
    "    return func\n",
    "end"
   ]
  },
  {
   "cell_type": "code",
   "execution_count": null,
   "metadata": {
    "collapsed": true
   },
   "outputs": [],
   "source": []
  }
 ],
 "metadata": {
  "kernelspec": {
   "display_name": "Julia 0.4.5",
   "language": "julia",
   "name": "julia-0.4"
  },
  "language_info": {
   "file_extension": ".jl",
   "mimetype": "application/julia",
   "name": "julia",
   "version": "0.4.5"
  }
 },
 "nbformat": 4,
 "nbformat_minor": 0
}
